{
 "cells": [
  {
   "cell_type": "code",
   "execution_count": 8,
   "id": "b4222d02-e795-4af5-a25a-18ffbc2f6df5",
   "metadata": {},
   "outputs": [
    {
     "name": "stdout",
     "output_type": "stream",
     "text": [
      "means\n",
      "[ 1.01277839  4.52863965  1.98990172 -1.17391554]\n",
      "\n",
      "mins\n",
      "[-2.31079823 -8.33142158 -1.80414214 -8.74552729]\n",
      "\n",
      "maxs\n",
      "[ 3.92919388 17.57679341  4.82528779  9.27678294]\n",
      "\n",
      "cov\n",
      "[[ 9.63461496e-01  3.36840170e+00 -1.12846545e-02 -5.12464592e-02]\n",
      " [ 3.36840170e+00  1.27550651e+01 -9.26050108e-02 -8.56265759e-02]\n",
      " [-1.12846545e-02 -9.26050108e-02  9.70507183e-01 -2.46328945e+00]\n",
      " [-5.12464592e-02 -8.56265759e-02 -2.46328945e+00  7.25484316e+00]]\n",
      "\n",
      "stddev\n",
      "[0.98156075 3.5714234  0.98514323 2.69348161]\n",
      "\n",
      "correlation matrix\n",
      "[[ 1.          0.9608716  -0.01167002 -0.01938352]\n",
      " [ 0.9608716   1.         -0.02632048 -0.0089013 ]\n",
      " [-0.01167002 -0.02632048  1.         -0.9283293 ]\n",
      " [-0.01938352 -0.0089013  -0.9283293   1.        ]]\n"
     ]
    }
   ],
   "source": [
    "import numpy as np\n",
    "\n",
    "np.random.seed(37)\n",
    "\n",
    "N = 1000\n",
    "\n",
    "x1 = np.random.normal(1, 1, N)\n",
    "x2 = np.random.normal(1 + 3.5 * x1, 1, N)\n",
    "x3 = np.random.normal(2, 1, N)\n",
    "x4 = np.random.normal(3.8 - 2.5 * x3, 1, N)\n",
    "\n",
    "data = np.vstack([x1, x2, x3, x4]).T\n",
    "means = data.mean(axis=0)\n",
    "mins = data.min(axis=0)\n",
    "maxs = data.max(axis=0)\n",
    "cov = np.cov(data.T)\n",
    "std = np.sqrt(np.diag(cov))\n",
    "cor = np.corrcoef(data.T)\n",
    "\n",
    "print('means')\n",
    "print(means)\n",
    "print('')\n",
    "print('mins')\n",
    "print(mins)\n",
    "print('')\n",
    "print('maxs')\n",
    "print(maxs)\n",
    "print('')\n",
    "print('cov')\n",
    "print(cov)\n",
    "print('')\n",
    "print('stddev')\n",
    "print(std)\n",
    "print('')\n",
    "print('correlation matrix')\n",
    "print(cor)"
   ]
  },
  {
   "cell_type": "code",
   "execution_count": 10,
   "id": "68520373-5edb-4307-8f92-cd232f7b049b",
   "metadata": {},
   "outputs": [],
   "source": [
    "from scipy.stats import norm\n",
    "\n",
    "def get_index_2(index_1, N):\n",
    "    return [i for i in range(N) if i not in index_1]\n",
    "\n",
    "def partition_means(index_1, means, index_2=None):\n",
    "    index_2 = get_index_2(index_1, len(means)) if index_2 is None else index_2\n",
    "    m_1, m_2 = means[index_1], means[index_2]\n",
    "    return m_1, m_2\n",
    "\n",
    "def partition_cov(index_1, cov, index_2=None):\n",
    "    index_2 = get_index_2(index_1, cov.shape[1]) if index_2 is None else index_2\n",
    "    s_11 = cov[index_1][:, index_1]\n",
    "    s_12 = cov[index_1][:, index_2]\n",
    "    s_21 = cov[index_2][:, index_1]\n",
    "    s_22 = cov[index_2][:, index_2]\n",
    "\n",
    "    return s_11, s_12, s_21, np.linalg.inv(s_22)\n",
    "\n",
    "def partition_x(index_1, x, index_2=None):\n",
    "    index_2 = get_index_2(index_1, len(x)) if index_2 is None else index_2\n",
    "    x_1 = x[index_1]\n",
    "    x_2 = x[index_2]\n",
    "    return x_1, x_2\n",
    "\n",
    "def get_log_proba(index_1, data, means, cov, index_2=None, zero=0.000001):\n",
    "    m_1, m_2 = partition_means(index_1, means, index_2)\n",
    "    s_11, s_12, s_21, s_22 = partition_cov(index_1, cov, index_2)\n",
    "    s = (s_11 - s_12.dot(s_22).dot(s_21))[0, 0]\n",
    "\n",
    "    log_proba = []\n",
    "    for x in data:\n",
    "        x_1, x_2 = partition_x(index_1, x, index_2)\n",
    "        m = (m_1 + s_12.dot(s_22).dot((x_2 - m_2).T))[0]\n",
    "        p = norm.pdf(x_1, loc=m, scale=s)\n",
    "        log_p = np.log(p) if p >= zero else 0.0\n",
    "        log_proba.append(log_p)\n",
    "\n",
    "    return sum(log_proba)[0], s_12.dot(s_22)[0]"
   ]
  },
  {
   "cell_type": "code",
   "execution_count": 12,
   "id": "4a27d183-c8e8-48da-8d04-6e9792ecb027",
   "metadata": {},
   "outputs": [
    {
     "data": {
      "text/plain": [
       "(-1407.7504048724827, array([3.49614563]))"
      ]
     },
     "execution_count": 12,
     "metadata": {},
     "output_type": "execute_result"
    }
   ],
   "source": [
    "get_log_proba([1], data, means, cov, [0])"
   ]
  },
  {
   "cell_type": "code",
   "execution_count": 14,
   "id": "4b0f300e-4547-4377-b0ea-9237c14bc835",
   "metadata": {},
   "outputs": [
    {
     "data": {
      "text/plain": [
       "(-1844.8158517246407, array([0.26408346]))"
      ]
     },
     "execution_count": 14,
     "metadata": {},
     "output_type": "execute_result"
    }
   ],
   "source": [
    "get_log_proba([0], data, means, cov, [1])"
   ]
  },
  {
   "cell_type": "code",
   "execution_count": 16,
   "id": "e8ec4f24-7ef1-449a-aeef-3f6717a18282",
   "metadata": {},
   "outputs": [
    {
     "data": {
      "text/plain": [
       "(-3503.3620421459736, array([-0.09541919]))"
      ]
     },
     "execution_count": 16,
     "metadata": {},
     "output_type": "execute_result"
    }
   ],
   "source": [
    "get_log_proba([1], data, means, cov, [2])"
   ]
  },
  {
   "cell_type": "code",
   "execution_count": 18,
   "id": "983fc2c7-44b4-47e3-b89d-3736d20feb03",
   "metadata": {},
   "outputs": [
    {
     "data": {
      "text/plain": [
       "(-3503.951768440483, array([-0.01180268]))"
      ]
     },
     "execution_count": 18,
     "metadata": {},
     "output_type": "execute_result"
    }
   ],
   "source": [
    "get_log_proba([1], data, means, cov, [3])"
   ]
  },
  {
   "cell_type": "code",
   "execution_count": 20,
   "id": "83047d50-e672-48de-bc43-e50b9258c743",
   "metadata": {},
   "outputs": [
    {
     "data": {
      "text/plain": [
       "(-1406.293970788457, array([ 3.49550407, -0.05477492]))"
      ]
     },
     "execution_count": 20,
     "metadata": {},
     "output_type": "execute_result"
    }
   ],
   "source": [
    "get_log_proba([1], data, means, cov, [0, 2])"
   ]
  },
  {
   "cell_type": "code",
   "execution_count": 22,
   "id": "7b4617f6-18ed-42c6-a42d-a7d77c026065",
   "metadata": {},
   "outputs": [
    {
     "data": {
      "text/plain": [
       "(-1407.1468441245956, array([3.49683168, 0.0128981 ]))"
      ]
     },
     "execution_count": 22,
     "metadata": {},
     "output_type": "execute_result"
    }
   ],
   "source": [
    "get_log_proba([1], data, means, cov, [0, 3])"
   ]
  },
  {
   "cell_type": "code",
   "execution_count": 24,
   "id": "6ed8c710-36ee-4e1b-b3e5-031986bc112a",
   "metadata": {},
   "outputs": [
    {
     "data": {
      "text/plain": [
       "(-3495.601209966525, array([-0.90717683, -0.319823  ]))"
      ]
     },
     "execution_count": 24,
     "metadata": {},
     "output_type": "execute_result"
    }
   ],
   "source": [
    "get_log_proba([1], data, means, cov, [2, 3])"
   ]
  },
  {
   "cell_type": "code",
   "execution_count": 26,
   "id": "68e56334-8420-4ae7-9b86-e3d5b60203fe",
   "metadata": {},
   "outputs": [
    {
     "data": {
      "text/plain": [
       "(-1405.4323728994725, array([ 3.49205536, -0.16036643, -0.04158602]))"
      ]
     },
     "execution_count": 26,
     "metadata": {},
     "output_type": "execute_result"
    }
   ],
   "source": [
    "get_log_proba([1], data, means, cov, [0, 2, 3])"
   ]
  },
  {
   "cell_type": "code",
   "execution_count": null,
   "id": "0b30c61e-6f07-4173-ba94-6177df6aaf9b",
   "metadata": {},
   "outputs": [],
   "source": []
  }
 ],
 "metadata": {
  "kernelspec": {
   "display_name": "Python 3 (ipykernel)",
   "language": "python",
   "name": "python3"
  },
  "language_info": {
   "codemirror_mode": {
    "name": "ipython",
    "version": 3
   },
   "file_extension": ".py",
   "mimetype": "text/x-python",
   "name": "python",
   "nbconvert_exporter": "python",
   "pygments_lexer": "ipython3",
   "version": "3.11.7"
  }
 },
 "nbformat": 4,
 "nbformat_minor": 5
}
